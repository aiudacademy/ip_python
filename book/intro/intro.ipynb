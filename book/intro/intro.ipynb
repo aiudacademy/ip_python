{
  "cells": [
    {
      "cell_type": "markdown",
      "metadata": {},
      "source": [
        "# Introducción a la programación y al lenguaje Python\n",
        "\n",
        "Al final de este capítulo, los estudiantes entenderán los conceptos básicos de la programación y la importancia de los lenguajes de programación. También, aprenderán sobre las características y ventajas del lenguaje Python, cómo instalar el ambiente de desarrollo utilizando Anaconda y cómo trabajar con ambientes virtuales para administrar proyectos en Python.\n",
        "\n",
        "## Concepto de programación\n",
        "### Definición de programación\n",
        "\n",
        "Según Wikipedia la programación es el proceso de crear un conjunto de instrucciones que le dicen a una computadora como realizar algún tipo de tarea. Pero no solo la acción de escribir un código para que la computadora o el software lo ejecute. Incluye, además, todas las tareas necesarias para que el código funcione correctamente y cumpla el objetivo para el cual se escribió.\n",
        "\n",
        "Un algoritmo es una secuencia finita de pasos, reglas o instrucciones bien definidas, que se utilizan para resolver un problema o llevar a cabo una tarea específica. Los algoritmos se pueden representar mediante diagramas de flujo, pseudocódigo u otros métodos. El pseudocódigo es una representación de alto nivel de un algoritmo, que utiliza una estructura similar a un lenguaje de programación pero sin seguir las reglas de sintaxis específicas. El pseudocódigo permite a los programadores diseñar y analizar algoritmos sin preocuparse por los detalles de implementación en un lenguaje de programación específico.\n",
        "\n",
        "Ejemplo de pseudocódigo para calcular la suma de los números del 1 al N:\n"
      ],
      "id": "820c6150"
    },
    {
      "cell_type": "code",
      "metadata": {},
      "source": [
        "Inicio\n",
        "   Leer N\n",
        "   Suma = 0\n",
        "   Para i = 1 hasta N:\n",
        "       Suma = Suma + i\n",
        "   Fin Para\n",
        "   Escribir Suma\n",
        "Fin"
      ],
      "id": "c4ba08a3",
      "execution_count": null,
      "outputs": []
    },
    {
      "cell_type": "markdown",
      "metadata": {},
      "source": [
        "### Lenguajes de programación\n",
        "\n",
        "\n",
        "\n",
        "### Algoritmos y pseudocódigo\n",
        "### Ejecución de programas\n",
        "\n",
        "## Historia de la programación\n",
        "### Primeras máquinas programables\n",
        "### Evolución de los lenguajes de programación\n",
        "### Paradigmas de programación\n",
        "\n",
        "## Lenguaje Python: características y ventajas\n",
        "### Historia de Python\n",
        "### Características del lenguaje Python\n",
        "### Ventajas y aplicaciones de Python\n",
        "### Comunidad y recursos de Python\n",
        "\n",
        "## Instalación del ambiente de desarrollo (Anaconda)\n",
        "### ¿Qué es Anaconda?\n",
        "### Instalación de Anaconda en diferentes sistemas operativos (Windows, macOS, Linux)\n",
        "### Verificación de la instalación y actualización de Anaconda\n",
        "### Introducción a Jupyter Notebook y JupyterLab\n",
        "\n",
        "## Ambientes Virtuales en Python\n",
        "### ¿Qué es un ambiente virtual?\n",
        "### Ventajas y uso de los ambientes virtuales\n",
        "### Creación y activación de ambientes virtuales en Python\n",
        "### Instalación y administración de paquetes en ambientes virtuales"
      ],
      "id": "774757ab"
    }
  ],
  "metadata": {
    "kernelspec": {
      "name": "python3",
      "language": "python",
      "display_name": "Python 3 (ipykernel)"
    }
  },
  "nbformat": 4,
  "nbformat_minor": 5
}